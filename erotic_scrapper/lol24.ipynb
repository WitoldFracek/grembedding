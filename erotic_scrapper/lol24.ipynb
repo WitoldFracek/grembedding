{
 "cells": [
  {
   "cell_type": "code",
   "execution_count": 21,
   "metadata": {},
   "outputs": [],
   "source": [
    "#lol24\n",
    "from bs4 import BeautifulSoup\n",
    "import requests\n",
    "import os"
   ]
  },
  {
   "cell_type": "code",
   "execution_count": 22,
   "metadata": {},
   "outputs": [],
   "source": [
    "TOPICS_TO_SCRAP = {\n",
    "    \"dramaty\": 24,\n",
    "    \"erotyczne\": 165,\n",
    "    \"fantasy\": 16,\n",
    "    \"felietony\": 13,\n",
    "    \"historyczne\": 1,\n",
    "    \"horrory\": 12,\n",
    "    \"inne\": 36,\n",
    "    \"smieszne\": 10,\n",
    "    \"kryminalne\": 11,\n",
    "    \"milosne\": 119,\n",
    "    \"obyczajowe\": 14,\n",
    "    \"poezja\": 28,\n",
    "    \"przygodowe\": 21,\n",
    "    \"sci-fi\": 4,\n",
    "    \"sny\": 6,\n",
    "    \"szkolne\": 4,\n",
    "    \"thrillery\": 2\n",
    "}\n",
    "CORE_URL = \"https://lol24.com\"\n",
    "CORE_DIR = \"LOL24Dataset\""
   ]
  },
  {
   "cell_type": "code",
   "execution_count": 27,
   "metadata": {},
   "outputs": [],
   "source": [
    "def get_page_url(topic: str, page_number: int):\n",
    "    page_url = f\"{CORE_URL}/opowiadania/{topic}\"\n",
    "    if page_number != 1:\n",
    "        page_url = f\"{page_url}-{page_number}\"\n",
    "    return page_url\n",
    "\n",
    "def get_html_tags_with_stories(page_url: str):\n",
    "    page = requests.get(page_url)\n",
    "    soup = BeautifulSoup(page.content, 'html.parser')\n",
    "    return soup.find_all('h2')[:14]\n",
    "\n",
    "def download_stories(html_tags_with_stories, output_dir):\n",
    "    for tag in html_tags_with_stories:\n",
    "        subpage_url = f\"{CORE_URL}{tag.a['href']}\"\n",
    "        story_id = subpage_url.split(\"-\")[-1]\n",
    "        subpage = requests.get(subpage_url)\n",
    "        subpage_soup = BeautifulSoup(subpage.content, 'html.parser')\n",
    "        story_text = subpage_soup.find_all(\"p\")[0].text\n",
    "        try:\n",
    "            author = subpage_soup.find_all(\"p\")[1].find_all(\"span\")[0].text\n",
    "            path = os.path.join(output_dir, author)\n",
    "        except Exception:\n",
    "            continue\n",
    "        try:\n",
    "            if not os.path.exists(path):\n",
    "                os.makedirs(path)\n",
    "            path = f\"{path}/{story_id}.txt\"\n",
    "            with open(path, \"w\", encoding=\"utf-8\") as file:\n",
    "                file.write(story_text)\n",
    "        except Exception:\n",
    "            print(f\"Error with author {author}. Skipping...\")\n",
    "\n",
    "def scrap(topic: str, no_pages: int, output_dir: str):\n",
    "    if not os.path.exists(CORE_DIR):\n",
    "        os.makedirs(CORE_DIR)\n",
    "    output_dir = os.path.join(CORE_DIR, output_dir)\n",
    "    if not os.path.exists(output_dir):\n",
    "        os.makedirs(output_dir)\n",
    "    for i in range(1, no_pages+1):\n",
    "        page_url = get_page_url(topic, i)\n",
    "        html_tags_with_stories = get_html_tags_with_stories(page_url)\n",
    "        download_stories(html_tags_with_stories, output_dir)\n",
    "        "
   ]
  },
  {
   "cell_type": "code",
   "execution_count": null,
   "metadata": {},
   "outputs": [],
   "source": [
    "for topic, no_pages in TOPICS_TO_SCRAP.items():\n",
    "    print(f\"Scrapping {topic}\")\n",
    "    scrap(topic, no_pages, topic)"
   ]
  }
 ],
 "metadata": {
  "kernelspec": {
   "display_name": ".venv",
   "language": "python",
   "name": "python3"
  },
  "language_info": {
   "codemirror_mode": {
    "name": "ipython",
    "version": 3
   },
   "file_extension": ".py",
   "mimetype": "text/x-python",
   "name": "python",
   "nbconvert_exporter": "python",
   "pygments_lexer": "ipython3",
   "version": "3.11.4"
  }
 },
 "nbformat": 4,
 "nbformat_minor": 2
}
