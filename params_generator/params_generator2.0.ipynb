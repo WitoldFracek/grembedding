{
 "cells": [
  {
   "cell_type": "code",
   "execution_count": 6,
   "metadata": {
    "ExecuteTime": {
     "end_time": "2024-03-23T18:33:21.681065Z",
     "start_time": "2024-03-23T18:33:21.664430Z"
    }
   },
   "outputs": [],
   "source": [
    "import os\n",
    "from pathlib import Path\n",
    "from qwlist import Lazy, QList"
   ]
  },
  {
   "cell_type": "code",
   "execution_count": 7,
   "metadata": {
    "ExecuteTime": {
     "end_time": "2024-03-23T18:33:21.943565Z",
     "start_time": "2024-03-23T18:33:21.927091Z"
    }
   },
   "outputs": [],
   "source": [
    "VECTORIZERS_DIR = Path('..') / 'stages' / 'vectorizers'\n",
    "DATACLEANERS_DIR = Path('..') / 'stages' / 'datacleaners'\n",
    "DATALOADERS_DIR = Path('..') / 'stages' / 'dataloaders'\n",
    "MODELS_DIR = Path('..') / 'stages' / 'models'\n",
    "PARAMS_DIR = Path('..') / 'params'\n",
    "\n",
    "GEN_FILE = 'gen_params2.0.yaml'"
   ]
  },
  {
   "cell_type": "code",
   "execution_count": 8,
   "metadata": {
    "ExecuteTime": {
     "end_time": "2024-03-23T18:33:22.206529Z",
     "start_time": "2024-03-23T18:33:22.200330Z"
    }
   },
   "outputs": [],
   "source": [
    "IGNORED_VECTORIZERS = ['Vectorizer', 'StyloMetrix', 'HerbertFrozen', 'HerbertFT', 'RoBERTaFrozen', 'RoBERTaFT']"
   ]
  },
  {
   "cell_type": "code",
   "execution_count": 9,
   "metadata": {
    "ExecuteTime": {
     "end_time": "2024-03-23T18:33:22.470606Z",
     "start_time": "2024-03-23T18:33:22.466495Z"
    }
   },
   "outputs": [],
   "source": [
    "DATA_PAIRS = [\n",
    "    ('Classics5Authors35Books', 'DummyDatacleaner'),\n",
    "    ('OldNewspapers', 'DummyDatacleaner'),\n",
    "    # ('PAN18PL', 'DummyDatacleaner'),\n",
    "    ('PrusVsSienkiewicz', 'DummyDatacleaner'),\n",
    "    # ('PrusVsSienkiewiczAV', 'DummyDatacleaner'),\n",
    "    ('StarWarsFanfic', 'DummyDatacleaner'),\n",
    "    ('TweeterCyberbullying', 'DummyDatacleaner'),\n",
    "    ('WritingStyle', 'DummyDatacleaner'),\n",
    "    ('EroticVsOthers', 'DummyDatacleaner'),    # [WinError 267] The directory name is invalid: 'datasets_raw\\\\LOL24Dataset\\\\dramaty\\\\10014.txt'\n",
    "    ('StarWarsFanficShort', 'DummyDatacleaner')\n",
    "]\n",
    "\n",
    "CLASSIFICATION_MODELS = [\n",
    "    'RandomForest',\n",
    "    'MLP',\n",
    "    'LogisticRegression'\n",
    "]\n",
    "\n",
    "CLUSTERIZATION_MODELS = [\n",
    "    'DBSCAN',\n",
    "    'KMeans',\n",
    "    'AffinityPropagation'\n",
    "]"
   ]
  },
  {
   "cell_type": "code",
   "execution_count": 10,
   "metadata": {
    "ExecuteTime": {
     "end_time": "2024-03-23T18:33:22.802957Z",
     "start_time": "2024-03-23T18:33:22.787450Z"
    }
   },
   "outputs": [],
   "source": [
    "text = 'load:\\n'\n",
    "\n",
    "for loader, _ in DATA_PAIRS:\n",
    "    text += f'   - dataloader: {loader}\\n'\n",
    "\n",
    "text += '\\nclean:\\n'\n",
    "for loader, cleaner in DATA_PAIRS:\n",
    "    text += f'   - dataloader: {loader}\\n'\n",
    "    text += f'     datacleaner: {cleaner}\\n'\n",
    "\n",
    "text += '\\nvectorize:\\n'\n",
    "for loader, cleaner in DATA_PAIRS:\n",
    "    text += '#' * 50\n",
    "    text += f' {loader}\\n'\n",
    "    vectorizers = filter(lambda v: v not in IGNORED_VECTORIZERS, map(lambda s: s[:-3], [file for file in os.listdir(VECTORIZERS_DIR) if file.endswith('.py')]))\n",
    "    for vec in vectorizers:\n",
    "        text += f'  - dataloader: {loader}\\n'\n",
    "        text += f'    datacleaner: {cleaner}\\n'\n",
    "        text += f'    vectorizer: {vec}\\n'\n",
    "\n",
    "\n",
    "text += '\\nevaluate_classification:\\n'\n",
    "for loader, cleaner in DATA_PAIRS:\n",
    "    text += '#' * 50\n",
    "    text += f' {loader}\\n'\n",
    "    vectorizers = filter(lambda v: v not in IGNORED_VECTORIZERS, map(lambda s: s[:-3], [file for file in os.listdir(VECTORIZERS_DIR) if file.endswith('.py')]))\n",
    "    for vec in vectorizers:\n",
    "        text += f'  - dataloader: {loader}\\n'\n",
    "        text += f'    datacleaner: {cleaner}\\n'\n",
    "        text += f'    vectorizer: {vec}\\n'\n",
    "\n",
    "text += '\\nevaluate_clustering:\\n'\n",
    "for loader, cleaner in DATA_PAIRS:\n",
    "    text += '#' * 50\n",
    "    text += f' {loader}\\n'\n",
    "    vectorizers = filter(lambda v: v not in IGNORED_VECTORIZERS, map(lambda s: s[:-3], [file for file in os.listdir(VECTORIZERS_DIR) if file.endswith('.py')]))\n",
    "    for vec in vectorizers:\n",
    "        text += f'  - dataloader: {loader}\\n'\n",
    "        text += f'    datacleaner: {cleaner}\\n'\n",
    "        text += f'    vectorizer: {vec}\\n'\n",
    "\n",
    "params: QList[str] = (\n",
    "    Lazy(os.walk(PARAMS_DIR))\n",
    "    .flatmap(lambda rdf: rdf[2])\n",
    "    .filter(lambda file: file.endswith('.yaml'))\n",
    "    .map(lambda s: s[:-5])\n",
    "    .collect()\n",
    ")\n",
    "\n",
    "text += '\\nclassification_models:\\n'\n",
    "for model in CLASSIFICATION_MODELS:\n",
    "    model_params = params.filter(lambda m: m.startswith(model))\n",
    "    for param in model_params:\n",
    "        text += f'  - model: {model}\\n'\n",
    "        text += f'    params: {param}\\n'\n",
    "\n",
    "text += '\\nclustering_models:\\n'\n",
    "for model in CLUSTERIZATION_MODELS:\n",
    "    model_params = params.filter(lambda m: m.startswith(model))\n",
    "    for param in model_params:\n",
    "        text += f'  - model: {model}\\n'\n",
    "        text += f'    params: {param}\\n'\n",
    "\n",
    "\n",
    "\n",
    "with open(GEN_FILE, 'w+', encoding='utf-8') as file:\n",
    "    file.write(text)"
   ]
  },
  {
   "cell_type": "code",
   "execution_count": null,
   "metadata": {
    "collapsed": false
   },
   "outputs": [],
   "source": []
  }
 ],
 "metadata": {
  "kernelspec": {
   "display_name": "venv",
   "language": "python",
   "name": "python3"
  },
  "language_info": {
   "codemirror_mode": {
    "name": "ipython",
    "version": 3
   },
   "file_extension": ".py",
   "mimetype": "text/x-python",
   "name": "python",
   "nbconvert_exporter": "python",
   "pygments_lexer": "ipython3",
   "version": "3.10.8"
  }
 },
 "nbformat": 4,
 "nbformat_minor": 2
}
