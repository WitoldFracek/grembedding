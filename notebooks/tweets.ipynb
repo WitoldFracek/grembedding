{
 "cells": [
  {
   "cell_type": "code",
   "execution_count": 1,
   "id": "initial_id",
   "metadata": {
    "collapsed": true,
    "ExecuteTime": {
     "end_time": "2023-12-01T15:33:16.709712900Z",
     "start_time": "2023-12-01T15:33:15.419716900Z"
    }
   },
   "outputs": [],
   "source": [
    "import pandas as pd"
   ]
  },
  {
   "cell_type": "code",
   "execution_count": 2,
   "outputs": [],
   "source": [
    "res = pd.read_parquet(\"../data/MsTweets/TweetNormalizationHashtagSkip/train.parquet\")"
   ],
   "metadata": {
    "collapsed": false,
    "ExecuteTime": {
     "end_time": "2023-12-01T15:33:33.724710900Z",
     "start_time": "2023-12-01T15:33:33.510714100Z"
    }
   },
   "id": "16792d874c427c8c"
  },
  {
   "cell_type": "code",
   "execution_count": 4,
   "outputs": [
    {
     "data": {
      "text/plain": "                                               clean_text  \\\n41854   możemy se gadać ale akurat z podawaniem smażon...   \n126676  Piramida Cheopsa zostanie zamknięta dla turyst...   \n119508  #Cejrowski o fotkach z Bajdenem: karnawał podl...   \n79692   Andrzej Duda zaprosił Wołodymyra Zełenskiego d...   \n1232    Twitter zdjął twitta pokazującego, jak czarne ...   \n...                                                   ...   \n125990  Rosyjski żużlowiec Wadim Tarasienko otrzymał p...   \n34332   Wszyscy posłowie KO dzwonią do Prezesa PiS żeb...   \n129517  Musk wysłał chociaż baloniki, a Ty @user pensj...   \n97067       LZPN nagrodził najlepszych w naszym regionie    \n76457   Trzeba mu było podsypać ryżu, ale jest - złoty...   \n\n                     label_str  label  \n41854                   Lewica      1  \n126676  Prawo i Sprawiedliwość      3  \n119508            Konfederacja      0  \n79692                   Lewica      1  \n1232              Konfederacja      0  \n...                        ...    ...  \n125990  Prawo i Sprawiedliwość      3  \n34332   Prawo i Sprawiedliwość      3  \n129517    PlatformaObywatelska      2  \n97067             Konfederacja      0  \n76457             Konfederacja      0  \n\n[45574 rows x 3 columns]",
      "text/html": "<div>\n<style scoped>\n    .dataframe tbody tr th:only-of-type {\n        vertical-align: middle;\n    }\n\n    .dataframe tbody tr th {\n        vertical-align: top;\n    }\n\n    .dataframe thead th {\n        text-align: right;\n    }\n</style>\n<table border=\"1\" class=\"dataframe\">\n  <thead>\n    <tr style=\"text-align: right;\">\n      <th></th>\n      <th>clean_text</th>\n      <th>label_str</th>\n      <th>label</th>\n    </tr>\n  </thead>\n  <tbody>\n    <tr>\n      <th>41854</th>\n      <td>możemy se gadać ale akurat z podawaniem smażon...</td>\n      <td>Lewica</td>\n      <td>1</td>\n    </tr>\n    <tr>\n      <th>126676</th>\n      <td>Piramida Cheopsa zostanie zamknięta dla turyst...</td>\n      <td>Prawo i Sprawiedliwość</td>\n      <td>3</td>\n    </tr>\n    <tr>\n      <th>119508</th>\n      <td>#Cejrowski o fotkach z Bajdenem: karnawał podl...</td>\n      <td>Konfederacja</td>\n      <td>0</td>\n    </tr>\n    <tr>\n      <th>79692</th>\n      <td>Andrzej Duda zaprosił Wołodymyra Zełenskiego d...</td>\n      <td>Lewica</td>\n      <td>1</td>\n    </tr>\n    <tr>\n      <th>1232</th>\n      <td>Twitter zdjął twitta pokazującego, jak czarne ...</td>\n      <td>Konfederacja</td>\n      <td>0</td>\n    </tr>\n    <tr>\n      <th>...</th>\n      <td>...</td>\n      <td>...</td>\n      <td>...</td>\n    </tr>\n    <tr>\n      <th>125990</th>\n      <td>Rosyjski żużlowiec Wadim Tarasienko otrzymał p...</td>\n      <td>Prawo i Sprawiedliwość</td>\n      <td>3</td>\n    </tr>\n    <tr>\n      <th>34332</th>\n      <td>Wszyscy posłowie KO dzwonią do Prezesa PiS żeb...</td>\n      <td>Prawo i Sprawiedliwość</td>\n      <td>3</td>\n    </tr>\n    <tr>\n      <th>129517</th>\n      <td>Musk wysłał chociaż baloniki, a Ty @user pensj...</td>\n      <td>PlatformaObywatelska</td>\n      <td>2</td>\n    </tr>\n    <tr>\n      <th>97067</th>\n      <td>LZPN nagrodził najlepszych w naszym regionie</td>\n      <td>Konfederacja</td>\n      <td>0</td>\n    </tr>\n    <tr>\n      <th>76457</th>\n      <td>Trzeba mu było podsypać ryżu, ale jest - złoty...</td>\n      <td>Konfederacja</td>\n      <td>0</td>\n    </tr>\n  </tbody>\n</table>\n<p>45574 rows × 3 columns</p>\n</div>"
     },
     "execution_count": 4,
     "metadata": {},
     "output_type": "execute_result"
    }
   ],
   "source": [
    "res"
   ],
   "metadata": {
    "collapsed": false,
    "ExecuteTime": {
     "end_time": "2023-12-01T15:34:05.761714700Z",
     "start_time": "2023-12-01T15:34:05.711716500Z"
    }
   },
   "id": "39bb1ed10549f544"
  },
  {
   "cell_type": "code",
   "execution_count": null,
   "outputs": [],
   "source": [],
   "metadata": {
    "collapsed": false
   },
   "id": "cd6074c562ef8dc8"
  }
 ],
 "metadata": {
  "kernelspec": {
   "display_name": "Python 3",
   "language": "python",
   "name": "python3"
  },
  "language_info": {
   "codemirror_mode": {
    "name": "ipython",
    "version": 2
   },
   "file_extension": ".py",
   "mimetype": "text/x-python",
   "name": "python",
   "nbconvert_exporter": "python",
   "pygments_lexer": "ipython2",
   "version": "2.7.6"
  }
 },
 "nbformat": 4,
 "nbformat_minor": 5
}
