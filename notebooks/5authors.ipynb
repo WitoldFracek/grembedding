{
 "cells": [
  {
   "cell_type": "code",
   "execution_count": 16,
   "id": "initial_id",
   "metadata": {
    "collapsed": true,
    "ExecuteTime": {
     "end_time": "2024-02-15T22:31:24.596727848Z",
     "start_time": "2024-02-15T22:31:24.555955505Z"
    }
   },
   "outputs": [],
   "source": [
    "import pandas as pd"
   ]
  },
  {
   "cell_type": "code",
   "outputs": [],
   "source": [
    "with open(\"../datasets_raw/5authors_35books/books/prus_lalka\", \"rb\") as f:\n",
    "    txt = f.read().decode(\"cp1250\")"
   ],
   "metadata": {
    "collapsed": false,
    "ExecuteTime": {
     "end_time": "2024-02-15T22:31:24.854000565Z",
     "start_time": "2024-02-15T22:31:24.846956937Z"
    }
   },
   "id": "f51e27cfdf6ccd89",
   "execution_count": 17
  },
  {
   "cell_type": "code",
   "outputs": [
    {
     "data": {
      "text/plain": "'JAK WYGLĄDA FIRMA J. MINCEL I . WOKULSKI \\r\\nPRZEZ SZKŁO BUTELEK? \\r\\nW początkach roku 1878, kiedy świat polityczny zajmował się pokojem sanstefańskim, \\r\\nwyborem nowego papieża albo szansami europejskiej wojny, \\r\\nwarszawscy kupcy tudzież inteligencja pewnej okolicy Krakowskiego \\r\\nPrzedmieścia niemniej gorąco interesowała się przyszłością galanteryjnego \\r\\nsklepu pod firmą J. Mincel i . Wokulski. \\r\\nW renomowanej jadłodajni, gdzie na wieczorną przekąskę zbierali się \\r\\nwłaściciele składów bielizny i składów win, fabrykanci powozów i kapeluszy, \\r\\npoważni ojcowie rodzin utrzymujący się z własnych funduszów i posiadacze \\r\\nkamienic bez zajęcia, równie dużo mówiono o uzbrojeniach Anglii, jak o firmie \\r\\nJ. Mincel i . Wokulski. Zatopieni w kłębach dymu cygar i pochyleni nad \\r\\nbutelkami z ciemnego szkła, obywatele tej dzielnicy jedni zakładali się o \\r\\nwygranę lub przegranę Anglii, drudzy o bankructwo Wokulskiego; jedni \\r\\nnazywali geniuszem Bismarcka, drudzy - awanturnikiem Wokulskiego; jedni \\r\\nkrytyk'"
     },
     "execution_count": 18,
     "metadata": {},
     "output_type": "execute_result"
    }
   ],
   "source": [
    "txt[:1000]"
   ],
   "metadata": {
    "collapsed": false,
    "ExecuteTime": {
     "end_time": "2024-02-15T22:31:25.412059332Z",
     "start_time": "2024-02-15T22:31:25.403052627Z"
    }
   },
   "id": "a8a24ad58c9c1ac5",
   "execution_count": 18
  },
  {
   "cell_type": "markdown",
   "source": [
    "### Processed peek"
   ],
   "metadata": {
    "collapsed": false
   },
   "id": "4e9e4e3a8dd677c7"
  },
  {
   "cell_type": "code",
   "outputs": [],
   "source": [
    "train = pd.read_parquet(\"../data/Classics_5Authors_35Books/raw/train.parquet\")"
   ],
   "metadata": {
    "collapsed": false,
    "ExecuteTime": {
     "end_time": "2024-02-15T21:03:39.939508785Z",
     "start_time": "2024-02-15T21:03:39.735573541Z"
    }
   },
   "id": "f0e76e0c9df503",
   "execution_count": 14
  },
  {
   "cell_type": "code",
   "outputs": [
    {
     "data": {
      "text/plain": "                                                 text  label\n0   ór tylko, w rzeczy samej podnosząc ją do urocz...      0\n0   Znalazł indywiduum, posiadające sztukę wciskan...      0\n0   Jakżeby mógł go nie znać, skoro było mu i oręż...      0\n0   Tuż za lokajem gość wszedł i rozminął się u dr...      0\n0   — Tak, ale zdemoralizował mi pan syna. Sam prz...      0\n..                                                ...    ...\n34  Głośno rzekła: \\r\\n– Czy to pan i portrety mal...      4\n34  worek podręczny, a w nim schowany testament. \\...      4\n34  tam bramy ni furtki. Czuła wszystkimi jego czu...      4\n34  władała olbrzymim zasobem wiadomości o mamidła...      4\n34  Czuła szczęście, szczęście miłości, jak wówcza...      4\n\n[5332 rows x 2 columns]",
      "text/html": "<div>\n<style scoped>\n    .dataframe tbody tr th:only-of-type {\n        vertical-align: middle;\n    }\n\n    .dataframe tbody tr th {\n        vertical-align: top;\n    }\n\n    .dataframe thead th {\n        text-align: right;\n    }\n</style>\n<table border=\"1\" class=\"dataframe\">\n  <thead>\n    <tr style=\"text-align: right;\">\n      <th></th>\n      <th>text</th>\n      <th>label</th>\n    </tr>\n  </thead>\n  <tbody>\n    <tr>\n      <th>0</th>\n      <td>ór tylko, w rzeczy samej podnosząc ją do urocz...</td>\n      <td>0</td>\n    </tr>\n    <tr>\n      <th>0</th>\n      <td>Znalazł indywiduum, posiadające sztukę wciskan...</td>\n      <td>0</td>\n    </tr>\n    <tr>\n      <th>0</th>\n      <td>Jakżeby mógł go nie znać, skoro było mu i oręż...</td>\n      <td>0</td>\n    </tr>\n    <tr>\n      <th>0</th>\n      <td>Tuż za lokajem gość wszedł i rozminął się u dr...</td>\n      <td>0</td>\n    </tr>\n    <tr>\n      <th>0</th>\n      <td>— Tak, ale zdemoralizował mi pan syna. Sam prz...</td>\n      <td>0</td>\n    </tr>\n    <tr>\n      <th>...</th>\n      <td>...</td>\n      <td>...</td>\n    </tr>\n    <tr>\n      <th>34</th>\n      <td>Głośno rzekła: \\r\\n– Czy to pan i portrety mal...</td>\n      <td>4</td>\n    </tr>\n    <tr>\n      <th>34</th>\n      <td>worek podręczny, a w nim schowany testament. \\...</td>\n      <td>4</td>\n    </tr>\n    <tr>\n      <th>34</th>\n      <td>tam bramy ni furtki. Czuła wszystkimi jego czu...</td>\n      <td>4</td>\n    </tr>\n    <tr>\n      <th>34</th>\n      <td>władała olbrzymim zasobem wiadomości o mamidła...</td>\n      <td>4</td>\n    </tr>\n    <tr>\n      <th>34</th>\n      <td>Czuła szczęście, szczęście miłości, jak wówcza...</td>\n      <td>4</td>\n    </tr>\n  </tbody>\n</table>\n<p>5332 rows × 2 columns</p>\n</div>"
     },
     "execution_count": 15,
     "metadata": {},
     "output_type": "execute_result"
    }
   ],
   "source": [
    "train"
   ],
   "metadata": {
    "collapsed": false,
    "ExecuteTime": {
     "end_time": "2024-02-15T21:03:42.577713184Z",
     "start_time": "2024-02-15T21:03:42.563362235Z"
    }
   },
   "id": "1d48ddfe308447dc",
   "execution_count": 15
  },
  {
   "cell_type": "code",
   "outputs": [],
   "source": [],
   "metadata": {
    "collapsed": false
   },
   "id": "2561017e1676e34e"
  }
 ],
 "metadata": {
  "kernelspec": {
   "display_name": "Python 3",
   "language": "python",
   "name": "python3"
  },
  "language_info": {
   "codemirror_mode": {
    "name": "ipython",
    "version": 2
   },
   "file_extension": ".py",
   "mimetype": "text/x-python",
   "name": "python",
   "nbconvert_exporter": "python",
   "pygments_lexer": "ipython2",
   "version": "2.7.6"
  }
 },
 "nbformat": 4,
 "nbformat_minor": 5
}
