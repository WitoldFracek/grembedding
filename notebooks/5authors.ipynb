{
 "cells": [
  {
   "cell_type": "code",
   "execution_count": 1,
   "id": "initial_id",
   "metadata": {
    "collapsed": true,
    "ExecuteTime": {
     "end_time": "2024-02-15T18:04:35.849115306Z",
     "start_time": "2024-02-15T18:04:35.546631465Z"
    }
   },
   "outputs": [],
   "source": [
    "import pandas as pd"
   ]
  },
  {
   "cell_type": "code",
   "outputs": [],
   "source": [
    "with open(\"../datasets_raw/5authors_35books/books/prus_lalka\", \"rb\") as f:\n",
    "    txt = f.read().decode(\"cp1250\")"
   ],
   "metadata": {
    "collapsed": false,
    "ExecuteTime": {
     "end_time": "2024-02-15T18:09:56.406252776Z",
     "start_time": "2024-02-15T18:09:56.279837708Z"
    }
   },
   "id": "f51e27cfdf6ccd89",
   "execution_count": 10
  },
  {
   "cell_type": "code",
   "outputs": [
    {
     "data": {
      "text/plain": "' \\r\\nBOLESŁAW PRUS \\r\\nLALKA \\r\\nTOM I \\r\\nROZDZIAŁ PIERWSZY \\r\\nJAK WYGLĄDA FIRMA J. MINCEL I . WOKULSKI \\r\\nPRZEZ SZKŁO BUTELEK? \\r\\nW początkach roku 1878, kiedy świat polityczny zajmował się pokojem sanstefańskim, \\r\\nwyborem nowego papieża albo szansami europejskiej wojny, \\r\\nwarszawscy kupcy tudzież inteligencja pewnej okolicy Krakowskiego \\r\\nPrzedmieścia niemniej gorąco interesowała się przyszłością galanteryjnego \\r\\nsklepu pod firmą J. Mincel i . Wokulski. \\r\\nW renomowanej jadłodajni, gdzie na wieczorną przekąskę zbierali się \\r\\nwłaściciele składów bielizny i składów win, fabrykanci powozów i kapeluszy, \\r\\npoważni ojcowie rodzin utrzymujący się z własnych funduszów i posiadacze \\r\\nkamienic bez zajęcia, równie dużo mówiono o uzbrojeniach Anglii, jak o firmie \\r\\nJ. Mincel i . Wokulski. Zatopieni w kłębach dymu cygar i pochyleni nad \\r\\nbutelkami z ciemnego szkła, obywatele tej dzielnicy jedni zakładali się o \\r\\nwygranę lub przegranę Anglii, drudzy o bankructwo Wokulskiego; jedni \\r\\nnazywali geniuszem Bismar'"
     },
     "execution_count": 12,
     "metadata": {},
     "output_type": "execute_result"
    }
   ],
   "source": [
    "txt[:1000]"
   ],
   "metadata": {
    "collapsed": false,
    "ExecuteTime": {
     "end_time": "2024-02-15T18:10:30.467757199Z",
     "start_time": "2024-02-15T18:10:30.422569530Z"
    }
   },
   "id": "a8a24ad58c9c1ac5",
   "execution_count": 12
  },
  {
   "cell_type": "code",
   "outputs": [],
   "source": [],
   "metadata": {
    "collapsed": false
   },
   "id": "f0e76e0c9df503"
  }
 ],
 "metadata": {
  "kernelspec": {
   "display_name": "Python 3",
   "language": "python",
   "name": "python3"
  },
  "language_info": {
   "codemirror_mode": {
    "name": "ipython",
    "version": 2
   },
   "file_extension": ".py",
   "mimetype": "text/x-python",
   "name": "python",
   "nbconvert_exporter": "python",
   "pygments_lexer": "ipython2",
   "version": "2.7.6"
  }
 },
 "nbformat": 4,
 "nbformat_minor": 5
}
