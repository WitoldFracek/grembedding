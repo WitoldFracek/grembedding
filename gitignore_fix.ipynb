{
 "cells": [
  {
   "cell_type": "code",
   "execution_count": 1,
   "metadata": {},
   "outputs": [],
   "source": [
    "from qwlist import Lazy, QList\n",
    "import os"
   ]
  },
  {
   "cell_type": "code",
   "execution_count": 15,
   "metadata": {},
   "outputs": [],
   "source": [
    "def fix_mlruns_store(*paths, only_print=False):\n",
    "    file_paths = (\n",
    "        Lazy(paths)\n",
    "        .map(str.strip)\n",
    "        .filter(lambda s: s != '')\n",
    "    )\n",
    "    for path in file_paths.filter(lambda s: s.startswith('./mlruns')):\n",
    "        for dir_ in os.listdir(path):\n",
    "            temp_path = f'{path}{dir_}'\n",
    "            if os.path.isdir(temp_path):\n",
    "                ignore_path = f'{temp_path}/.gitignore'\n",
    "                if only_print:\n",
    "                    print(ignore_path)\n",
    "                else:\n",
    "                    with open(ignore_path, 'w+', encoding='utf-8') as file:\n",
    "                        file.write(f'/out_mlflow.zip\\n')\n",
    "\n",
    "def fix_data_store(*paths, only_print=False):\n",
    "    file_paths = (\n",
    "        Lazy(paths)\n",
    "        .map(str.strip)\n",
    "        .filter(lambda s: s != '')\n",
    "    )\n",
    "    for path in file_paths.filter(lambda s: s.startswith('./data')):\n",
    "        _, data_dir,  dataset, model, *_ = path.split('/')\n",
    "        ignore_path = f'./{data_dir}/{dataset}/.gitignore'\n",
    "        ignore = f'/{model}\\n'\n",
    "        if only_print:\n",
    "            print(ignore_path, f'  Content: {ignore}')\n",
    "        else:\n",
    "            with open(ignore_path, 'a', encoding='utf-8') as file:\n",
    "                file.write(ignore)"
   ]
  },
  {
   "cell_type": "code",
   "execution_count": 12,
   "metadata": {},
   "outputs": [
    {
     "name": "stdout",
     "output_type": "stream",
     "text": [
      "./mlruns_store/EroticVsOthers/DummyDatacleaner/Stylometrix/MLP/MLP3/.gitignore\n",
      "./mlruns_store/EroticVsOthers/DummyDatacleaner/Stylometrix/MLP/MLP2/.gitignore\n",
      "./mlruns_store/EroticVsOthers/DummyDatacleaner/Stylometrix/MLP/MLP1/.gitignore\n",
      "./mlruns_store/EroticVsOthers/DummyDatacleaner/Stylometrix/RandomForest/RandomForest1/.gitignore\n"
     ]
    }
   ],
   "source": [
    "fix_mlruns_store(\n",
    "    \"./mlruns_store/EroticVsOthers/DummyDatacleaner/Stylometrix/MLP/\",\n",
    "    \"./mlruns_store/EroticVsOthers/DummyDatacleaner/Stylometrix/RandomForest/\",\n",
    "    only_print=True\n",
    ")"
   ]
  },
  {
   "cell_type": "code",
   "execution_count": 16,
   "metadata": {},
   "outputs": [
    {
     "name": "stdout",
     "output_type": "stream",
     "text": [
      "./data/EroticVsOthers/.gitignore   Content: /DummyDatacleaner_StyloMetrix\n",
      "\n"
     ]
    }
   ],
   "source": [
    "fix_data_store(\n",
    "    \"./data/EroticVsOthers/DummyDatacleaner_StyloMetrix\",\n",
    "    only_print=True\n",
    ")"
   ]
  },
  {
   "cell_type": "code",
   "execution_count": null,
   "metadata": {},
   "outputs": [],
   "source": []
  }
 ],
 "metadata": {
  "kernelspec": {
   "display_name": "venv",
   "language": "python",
   "name": "python3"
  },
  "language_info": {
   "codemirror_mode": {
    "name": "ipython",
    "version": 3
   },
   "file_extension": ".py",
   "mimetype": "text/x-python",
   "name": "python",
   "nbconvert_exporter": "python",
   "pygments_lexer": "ipython3",
   "version": "3.10.8"
  }
 },
 "nbformat": 4,
 "nbformat_minor": 2
}
